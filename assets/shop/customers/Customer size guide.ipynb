{
 "cells": [
  {
   "cell_type": "markdown",
   "id": "9fcefeea",
   "metadata": {},
   "source": [
    "# Customer drawing guide\n",
    "**Canvas sizing**\n",
    "\n",
    "A customer character comes in three parts that are each drawm seperatly and put randomly together. To ensure that all parts fit together, the size dimensions defined below must be used for each customer part.\n",
    "\n",
    "**Putting parts together**\n",
    "For a part to be valid, it needs an entry in `part_meta.json`. This entry needs to specify connection sizes and points. The head has two connections, the top connection and the bottom connection while the hat and body only have one each. Please keep connector widths to mostly round numbers, it makes it easier to find matching parts. Examples could be: 10px, 25px, 50px, 100px, 250px etc... Other sizes are also valid but makes it harder to find matches.\n",
    "\n",
    "**Example `part_meta.json` file with one of each part**\n",
    "```json\n",
    "{\n",
    "    \"hats\": {\n",
    "        {\n",
    "            \"filename\": \"hatname.png\",\n",
    "            \"bottom_connector_width\": 50,\n",
    "            \"bottom_connector_point\": [50, 300]\n",
    "        }\n",
    "    },\n",
    "    \"heads\": {\n",
    "        {\n",
    "            \"filename\": \"headname.png\",\n",
    "            \"top_connector_width\": 50,\n",
    "            \"top_connector_point\": [25, 0],\n",
    "            \"bottom_connector_width\": 100,\n",
    "            \"bottom_connector_point\": [50, 200]\n",
    "        }\n",
    "    },\n",
    "    \"bodies\": {\n",
    "        {\n",
    "            \"filename\": \"bodyname.png\",\n",
    "            \"top_connector_width\": 100,\n",
    "            \"top_connector_point\": [200, 0]\n",
    "        }\n",
    "    }\n",
    "}\n",
    "```\n",
    "**Explanation of json keys and values (see example above):**\n",
    "- `filename`: Name of the file with the image, including extension. Images must be placed in the `hat`, `head` and `body` folders respectivly.\n",
    "- `top_connector_width`: Width in pixels of the top connector\n",
    "- `top_connector_point`: Midpoint of the top connector. Please keep connectors relativly close to the middle, since the entire customer can't exceed `CUSTOMER_MAX_WIDTH`.\n",
    "- `bottom_connector_width`: Same as `top_connector_width`just for bottom\n",
    "- `bottom_connector_point`: Same as `top_connector_point`just for bottom"
   ]
  },
  {
   "cell_type": "code",
   "execution_count": 25,
   "id": "a433d78e",
   "metadata": {},
   "outputs": [],
   "source": [
    "# Size definition\n",
    "CUSTOMER_TOTAL_MAX_HEIGHT = 750\n",
    "CUSTOMER_MAX_WIDTH = 400\n",
    "\n",
    "BODY_MAX_HEIGHT = 400\n",
    "BODY_MIN_HEIGHT = 300\n",
    "\n",
    "HEAD_MAX_HEIGHT = 200\n",
    "HEAD_MIN_HEIGHT = 100\n",
    "\n",
    "HAT_MAX_HEIGHT = 150\n",
    "HAT_MIN_HEIGHT = 50\n",
    "\n",
    "# Colors for visualizer\n",
    "BODY_COLOR = [255, 0, 0]\n",
    "HEAD_COLOR = [0, 255, 0]\n",
    "HAT_COLOR = [0, 0, 255]"
   ]
  },
  {
   "cell_type": "code",
   "execution_count": null,
   "id": "2ac22c14",
   "metadata": {},
   "outputs": [
    {
     "data": {
      "image/png": "[encoded data removed]",
      "text/plain": [
       "<IPython.core.display.Image object>"
      ]
     },
     "metadata": {},
     "output_type": "display_data"
    }
   ],
   "source": [
    "import pygame\n",
    "from IPython.display import Image, display\n",
    "\n",
    "pygame.init()\n",
    "\n",
    "screen = pygame.display.set_mode([CUSTOMER_MAX_WIDTH * 2, CUSTOMER_TOTAL_MAX_HEIGHT])\n",
    "\n",
    "# Draw graphics\n",
    "screen.fill([255,255,255])\n",
    "\n",
    "# Max height visualizer\n",
    "pygame.draw.rect(screen, BODY_COLOR, pygame.Rect(0, CUSTOMER_TOTAL_MAX_HEIGHT - BODY_MAX_HEIGHT, CUSTOMER_MAX_WIDTH, BODY_MAX_HEIGHT))\n",
    "pygame.draw.rect(screen, HEAD_COLOR, pygame.Rect(0, CUSTOMER_TOTAL_MAX_HEIGHT - BODY_MAX_HEIGHT - HEAD_MAX_HEIGHT, CUSTOMER_MAX_WIDTH, HEAD_MAX_HEIGHT))\n",
    "pygame.draw.rect(screen, HAT_COLOR, pygame.Rect(0, CUSTOMER_TOTAL_MAX_HEIGHT - BODY_MAX_HEIGHT - HEAD_MAX_HEIGHT - HAT_MAX_HEIGHT, CUSTOMER_MAX_WIDTH, HAT_MAX_HEIGHT))\n",
    "\n",
    "# Min height visualizer\n",
    "pygame.draw.rect(screen, BODY_COLOR, pygame.Rect(CUSTOMER_MAX_WIDTH, CUSTOMER_TOTAL_MAX_HEIGHT - BODY_MIN_HEIGHT, CUSTOMER_MAX_WIDTH, BODY_MIN_HEIGHT))\n",
    "pygame.draw.rect(screen, HEAD_COLOR, pygame.Rect(CUSTOMER_MAX_WIDTH, CUSTOMER_TOTAL_MAX_HEIGHT - BODY_MIN_HEIGHT - HEAD_MIN_HEIGHT, CUSTOMER_MAX_WIDTH, HEAD_MIN_HEIGHT))\n",
    "pygame.draw.rect(screen, HAT_COLOR, pygame.Rect(CUSTOMER_MAX_WIDTH, CUSTOMER_TOTAL_MAX_HEIGHT - BODY_MIN_HEIGHT - HEAD_MIN_HEIGHT - HAT_MIN_HEIGHT, CUSTOMER_MAX_WIDTH, HAT_MIN_HEIGHT))\n",
    "\n",
    "\n",
    "pygame.display.flip()\n",
    "pygame.image.save(screen, 'customerSizeGuideVisualizer.png')\n",
    "display(Image(filename='customerSizeGuideVisualizer.png'))\n",
    "\n",
    "pygame.quit()\n"
   ]
  }
 ],
 "metadata": {
  "kernelspec": {
   "display_name": ".venv",
   "language": "python",
   "name": "python3"
  },
  "language_info": {
   "codemirror_mode": {
    "name": "ipython",
    "version": 3
   },
   "file_extension": ".py",
   "mimetype": "text/x-python",
   "name": "python",
   "nbconvert_exporter": "python",
   "pygments_lexer": "ipython3",
   "version": "3.12.3"
  }
 },
 "nbformat": 4,
 "nbformat_minor": 5
}
